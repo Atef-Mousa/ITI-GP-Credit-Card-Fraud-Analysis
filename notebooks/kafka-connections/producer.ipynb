{
 "cells": [
  {
   "cell_type": "code",
   "execution_count": 9,
   "id": "caaa153c-4af9-4918-982f-87cc540351e5",
   "metadata": {},
   "outputs": [],
   "source": [
    "from kafka import KafkaProducer\n",
    "from kafka.admin import KafkaAdminClient, NewTopic\n",
    "import csv\n",
    "import json\n",
    "import time\n",
    "from datetime import datetime\n",
    "\n",
    "topic_name = \"credit_card_trans\"\n",
    "bootstrap_servers = \"kafka_v2:9092\"\n",
    "csv_path = \"fraudTest.csv\" "
   ]
  },
  {
   "cell_type": "code",
   "execution_count": 14,
   "id": "23effe26-db01-46b7-81f7-019a7c144d79",
   "metadata": {},
   "outputs": [],
   "source": [
    "producer = KafkaProducer(\n",
    "    bootstrap_servers=bootstrap_servers,\n",
    "    value_serializer=lambda v: json.dumps(v).encode(\"utf-8\")  \n",
    ")"
   ]
  },
  {
   "cell_type": "code",
   "execution_count": 15,
   "id": "f20e5240-8ccb-496f-9fbb-345767e950ac",
   "metadata": {},
   "outputs": [],
   "source": [
    "import random\n",
    "def stream_csv_rows(path):\n",
    "    with open(path, newline='', encoding='utf-8') as csv_file:\n",
    "            reader = csv.DictReader(csv_file)\n",
    "            for row in reader:\n",
    "                row['event_time'] = datetime.now().isoformat()\n",
    "                yield row\n",
    "                delay = random.randint(5, 10)\n",
    "                time.sleep(delay)"
   ]
  },
  {
   "cell_type": "code",
   "execution_count": 16,
   "id": "5e6c60ea-5695-4708-b351-80e400631f5a",
   "metadata": {},
   "outputs": [
    {
     "name": "stdout",
     "output_type": "stream",
     "text": [
      "Produced message 1: {'': '0', 'trans_date_trans_time': '2020-06-21 12:14:25', 'cc_num': '2291163933867244', 'merchant': 'fraud_Kirlin and Sons', 'category': 'personal_care', 'amt': '2.86', 'first': 'Jeff', 'last': 'Elliott', 'gender': 'M', 'street': '351 Darlene Green', 'city': 'Columbia', 'state': 'SC', 'zip': '29209', 'lat': '33.9659', 'long': '-80.9355', 'city_pop': '333497', 'job': 'Mechanical engineer', 'dob': '1968-03-19', 'trans_num': '2da90c7d74bd46a0caf3777415b3ebd3', 'unix_time': '1371816865', 'merch_lat': '33.986391', 'merch_long': '-81.200714', 'is_fraud': '0', 'event_time': '2025-07-24T13:47:21.697625'}\n",
      "Produced message 2: {'': '1', 'trans_date_trans_time': '2020-06-21 12:14:33', 'cc_num': '3573030041201292', 'merchant': 'fraud_Sporer-Keebler', 'category': 'personal_care', 'amt': '29.84', 'first': 'Joanne', 'last': 'Williams', 'gender': 'F', 'street': '3638 Marsh Union', 'city': 'Altonah', 'state': 'UT', 'zip': '84002', 'lat': '40.3207', 'long': '-110.436', 'city_pop': '302', 'job': 'Sales professional, IT', 'dob': '1990-01-17', 'trans_num': '324cc204407e99f51b0d6ca0055005e7', 'unix_time': '1371816873', 'merch_lat': '39.450497999999996', 'merch_long': '-109.960431', 'is_fraud': '0', 'event_time': '2025-07-24T13:47:29.572093'}\n",
      "Stopping producer ...\n",
      "Producer stopped\n"
     ]
    }
   ],
   "source": [
    "try:\n",
    "    for i, row in enumerate(stream_csv_rows(csv_path), 1):\n",
    "        producer.send(topic_name, value=row)\n",
    "        producer.flush()\n",
    "        print(f\"Produced message {i}: {row}\")\n",
    "except KeyboardInterrupt:\n",
    "    print(\"Stopping producer ...\\nProducer stopped\")\n",
    "finally:\n",
    "    producer.flush()\n",
    "    producer.close()\n",
    "    #admin_client.close()"
   ]
  },
  {
   "cell_type": "code",
   "execution_count": null,
   "id": "9183cffc-ce28-47c1-815f-5daf937f1f0a",
   "metadata": {},
   "outputs": [],
   "source": []
  }
 ],
 "metadata": {
  "kernelspec": {
   "display_name": "Python 3 (ipykernel)",
   "language": "python",
   "name": "python3"
  },
  "language_info": {
   "codemirror_mode": {
    "name": "ipython",
    "version": 3
   },
   "file_extension": ".py",
   "mimetype": "text/x-python",
   "name": "python",
   "nbconvert_exporter": "python",
   "pygments_lexer": "ipython3",
   "version": "3.11.6"
  }
 },
 "nbformat": 4,
 "nbformat_minor": 5
}
