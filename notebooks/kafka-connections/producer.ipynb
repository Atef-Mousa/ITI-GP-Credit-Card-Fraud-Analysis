{
 "cells": [
  {
   "cell_type": "code",
   "execution_count": 20,
   "id": "caaa153c-4af9-4918-982f-87cc540351e5",
   "metadata": {},
   "outputs": [],
   "source": [
    "from kafka import KafkaProducer\n",
    "import csv\n",
    "import json\n",
    "import time\n",
    "from datetime import datetime\n",
    "import random\n",
    "\n",
    "\n",
    "\n",
    "topic_name = \"credit_card_trans\"\n",
    "bootstrap_servers = \"kafka_v2:9092\"\n",
    "csv_path = \"/opt/airflow/data/fraudTrain.csv\" "
   ]
  },
  {
   "cell_type": "code",
   "execution_count": 21,
   "id": "23effe26-db01-46b7-81f7-019a7c144d79",
   "metadata": {},
   "outputs": [],
   "source": [
    "producer = KafkaProducer(\n",
    "    bootstrap_servers=bootstrap_servers,\n",
    "    value_serializer=lambda v: json.dumps(v).encode(\"utf-8\")  \n",
    ")"
   ]
  },
  {
   "cell_type": "code",
   "execution_count": 22,
   "id": "f20e5240-8ccb-496f-9fbb-345767e950ac",
   "metadata": {},
   "outputs": [],
   "source": [
    "# def stream_csv_rows(path):\n",
    "#     with open(path, newline='', encoding='utf-8') as csv_file:\n",
    "#             reader = csv.DictReader(csv_file)\n",
    "#             for row in reader:\n",
    "#                 row['event_time'] = datetime.now().strftime('%Y-%m-%d %H:%M:%S')\n",
    "#                 yield row\n",
    "#                 delay = random.randint(5, 10)\n",
    "#                 time.sleep(delay)\n",
    "\n",
    "\n",
    "def save_status(row_num) : \n",
    "    with open(\"/opt/airflow/data/state.json\", \"w\") as f:\n",
    "        json.dump({\"last_id\" : row_num}, f) \n",
    "\n",
    "def load_status():\n",
    "    try:\n",
    "        with open(\"/opt/airflow/data/state.json\", \"r\") as f:\n",
    "            state = json.load(f)\n",
    "            return state.get(\"last_id\", 0)\n",
    "    except FileNotFoundError:\n",
    "        return 0  \n",
    "    \n",
    "\n",
    "def stream_reader(path): \n",
    "    row_num = load_status()\n",
    "\n",
    "    with open(path, \"r\") as f:\n",
    "        reader = csv.DictReader(f)\n",
    "        for i, row in enumerate(reader):\n",
    "            if i < row_num:\n",
    "                continue  # Skip already processed rows\n",
    "            \n",
    "            row['event_time'] = datetime.now().strftime('%Y-%m-%d %H:%M:%S')\n",
    "            save_status(i + 1)\n",
    "            yield row\n",
    "\n",
    "            delay = random.randint(5, 10)\n",
    "            time.sleep(delay)\n",
    "    "
   ]
  },
  {
   "cell_type": "code",
   "execution_count": 23,
   "id": "5e6c60ea-5695-4708-b351-80e400631f5a",
   "metadata": {},
   "outputs": [
    {
     "name": "stdout",
     "output_type": "stream",
     "text": [

      "Produced message 1: {'': '0', 'trans_date_trans_time': '2019-01-01 00:00:18', 'cc_num': '2703186189652095', 'merchant': 'fraud_Rippin, Kub and Mann', 'category': 'misc_net', 'amt': '4.97', 'first': 'Jennifer', 'last': 'Banks', 'gender': 'F', 'street': '561 Perry Cove', 'city': 'Moravian Falls', 'state': 'NC', 'zip': '28654', 'lat': '36.0788', 'long': '-81.1781', 'city_pop': '3495', 'job': 'Psychologist, counselling', 'dob': '1988-03-09', 'trans_num': '0b242abb623afc578575680df30655b9', 'unix_time': '1325376018', 'merch_lat': '36.011293', 'merch_long': '-82.048315', 'is_fraud': '0', 'event_time': '2025-07-26 21:11:48'}\n",
"Stopping producer ...\n",
      "Producer stopped\n"
     ]
    }
   ],
   "source": [
    "try:\n",
    "    for i, row in enumerate(stream_reader(csv_path), 1):\n",
    "        producer.send(topic_name, value=row)\n",
    "        producer.flush()\n",
    "        print(f\"Produced message {i}: {row}\")\n",
    "except KeyboardInterrupt:\n",
    "    print(\"Stopping producer ...\\nProducer stopped\")\n",
    "finally:\n",
    "    producer.flush()\n",
    "    producer.close()\n",
    "    #admin_client.close()"
   ]
  },
  {
   "cell_type": "code",
   "execution_count": null,
   "id": "9183cffc-ce28-47c1-815f-5daf937f1f0a",
   "metadata": {},
   "outputs": [],
   "source": [
    "# # if you want to start from zero \n",
    "# save_status(0)\n"
   ]
  },
  {
   "cell_type": "code",
   "execution_count": null,
   "id": "8f8fc02f-9844-4167-add3-304a0837ccca",
   "metadata": {},
   "outputs": [],
   "source": []
  }
 ],
 "metadata": {
  "kernelspec": {
   "display_name": "Python 3 (ipykernel)",
   "language": "python",
   "name": "python3"
  }
 },
 "nbformat": 4,
 "nbformat_minor": 5
}
