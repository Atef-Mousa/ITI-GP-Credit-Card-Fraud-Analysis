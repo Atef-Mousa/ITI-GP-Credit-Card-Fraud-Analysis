{
 "cells": [
  {
   "cell_type": "code",
   "execution_count": 11,
   "id": "caaa153c-4af9-4918-982f-87cc540351e5",
   "metadata": {},
   "outputs": [],
   "source": [
    "from kafka import KafkaProducer\n",
    "from kafka.admin import KafkaAdminClient, NewTopic\n",
    "import csv\n",
    "import json\n",
    "import time\n",
    "from datetime import datetime\n",
    "import random\n",
    "import os \n",
    "\n",
    "\n",
    "topic_name = \"credit_card_trans\"\n",
    "bootstrap_servers = \"kafka_v2:9092\"\n",
    "csv_path = \"/opt/airflow/data/fraudTrain.csv\" "
   ]
  },
  {
   "cell_type": "code",
   "execution_count": 12,
   "id": "23effe26-db01-46b7-81f7-019a7c144d79",
   "metadata": {},
   "outputs": [],
   "source": [
    "producer = KafkaProducer(\n",
    "    bootstrap_servers=bootstrap_servers,\n",
    "    value_serializer=lambda v: json.dumps(v).encode(\"utf-8\")  \n",
    ")"
   ]
  },
  {
   "cell_type": "code",
   "execution_count": 13,
   "id": "f20e5240-8ccb-496f-9fbb-345767e950ac",
   "metadata": {},
   "outputs": [],
   "source": [
    "# def stream_csv_rows(path):\n",
    "#     with open(path, newline='', encoding='utf-8') as csv_file:\n",
    "#             reader = csv.DictReader(csv_file)\n",
    "#             for row in reader:\n",
    "#                 row['event_time'] = datetime.now().strftime('%Y-%m-%d %H:%M:%S')\n",
    "#                 yield row\n",
    "#                 delay = random.randint(5, 10)\n",
    "#                 time.sleep(delay)\n",
    "\n",
    "\n",
    "def save_status(row_num) : \n",
    "    with open(\"/opt/airflow/data/state.json\", \"w\") as f:\n",
    "        json.dump({\"last_id\" : row_num}, f) \n",
    "\n",
    "def load_status():\n",
    "    try:\n",
    "        with open(\"/opt/airflow/data/state.json\", \"r\") as f:\n",
    "            state = json.load(f)\n",
    "            return state.get(\"last_id\", 0)\n",
    "    except FileNotFoundError:\n",
    "        return 0  \n",
    "    \n",
    "\n",
    "def stream_reader(path): \n",
    "    row_num = load_status()\n",
    "\n",
    "    with open(path, \"r\") as f:\n",
    "        reader = csv.DictReader(f)\n",
    "        for i, row in enumerate(reader):\n",
    "            if i < row_num:\n",
    "                continue  # Skip already processed rows\n",
    "            \n",
    "            row['event_time'] = datetime.now().strftime('%Y-%m-%d %H:%M:%S')\n",
    "            save_status(i + 1)\n",
    "            yield row\n",
    "\n",
    "            delay = random.randint(5, 10)\n",
    "            time.sleep(delay)\n",
    "    "
   ]
  },
  {
   "cell_type": "code",
   "execution_count": 14,
   "id": "5e6c60ea-5695-4708-b351-80e400631f5a",
   "metadata": {},
   "outputs": [
    {
     "name": "stdout",
     "output_type": "stream",
     "text": [
      "Produced message 1: {'': '4', 'trans_date_trans_time': '2019-01-01 00:03:06', 'cc_num': '375534208663984', 'merchant': 'fraud_Keeling-Crist', 'category': 'misc_pos', 'amt': '41.96', 'first': 'Tyler', 'last': 'Garcia', 'gender': 'M', 'street': '408 Bradley Rest', 'city': 'Doe Hill', 'state': 'VA', 'zip': '24433', 'lat': '38.4207', 'long': '-79.4629', 'city_pop': '99', 'job': 'Dance movement psychotherapist', 'dob': '1986-03-28', 'trans_num': 'a41d7549acf90789359a9aa5346dcb46', 'unix_time': '1325376186', 'merch_lat': '38.674999', 'merch_long': '-78.632459', 'is_fraud': '0', 'event_time': '2025-07-26 20:56:02'}\n",
      "Produced message 2: {'': '5', 'trans_date_trans_time': '2019-01-01 00:04:08', 'cc_num': '4767265376804500', 'merchant': 'fraud_Stroman, Hudson and Erdman', 'category': 'gas_transport', 'amt': '94.63', 'first': 'Jennifer', 'last': 'Conner', 'gender': 'F', 'street': '4655 David Island', 'city': 'Dublin', 'state': 'PA', 'zip': '18917', 'lat': '40.375', 'long': '-75.2045', 'city_pop': '2158', 'job': 'Transport planner', 'dob': '1961-06-19', 'trans_num': '189a841a0a8ba03058526bcfe566aab5', 'unix_time': '1325376248', 'merch_lat': '40.653382', 'merch_long': '-76.15266700000001', 'is_fraud': '0', 'event_time': '2025-07-26 20:56:07'}\n",
      "Produced message 3: {'': '6', 'trans_date_trans_time': '2019-01-01 00:04:42', 'cc_num': '30074693890476', 'merchant': 'fraud_Rowe-Vandervort', 'category': 'grocery_net', 'amt': '44.54', 'first': 'Kelsey', 'last': 'Richards', 'gender': 'F', 'street': '889 Sarah Station Suite 624', 'city': 'Holcomb', 'state': 'KS', 'zip': '67851', 'lat': '37.9931', 'long': '-100.9893', 'city_pop': '2691', 'job': 'Arboriculturist', 'dob': '1993-08-16', 'trans_num': '83ec1cc84142af6e2acf10c44949e720', 'unix_time': '1325376282', 'merch_lat': '37.162704999999995', 'merch_long': '-100.15337', 'is_fraud': '0', 'event_time': '2025-07-26 20:56:12'}\n",
      "Produced message 4: {'': '7', 'trans_date_trans_time': '2019-01-01 00:05:08', 'cc_num': '6011360759745864', 'merchant': 'fraud_Corwin-Collins', 'category': 'gas_transport', 'amt': '71.65', 'first': 'Steven', 'last': 'Williams', 'gender': 'M', 'street': '231 Flores Pass Suite 720', 'city': 'Edinburg', 'state': 'VA', 'zip': '22824', 'lat': '38.8432', 'long': '-78.6003', 'city_pop': '6018', 'job': 'Designer, multimedia', 'dob': '1947-08-21', 'trans_num': '6d294ed2cc447d2c71c7171a3d54967c', 'unix_time': '1325376308', 'merch_lat': '38.948089', 'merch_long': '-78.540296', 'is_fraud': '0', 'event_time': '2025-07-26 20:56:21'}\n",
      "Produced message 5: {'': '8', 'trans_date_trans_time': '2019-01-01 00:05:18', 'cc_num': '4922710831011201', 'merchant': 'fraud_Herzog Ltd', 'category': 'misc_pos', 'amt': '4.27', 'first': 'Heather', 'last': 'Chase', 'gender': 'F', 'street': '6888 Hicks Stream Suite 954', 'city': 'Manor', 'state': 'PA', 'zip': '15665', 'lat': '40.3359', 'long': '-79.6607', 'city_pop': '1472', 'job': 'Public affairs consultant', 'dob': '1941-03-07', 'trans_num': 'fc28024ce480f8ef21a32d64c93a29f5', 'unix_time': '1325376318', 'merch_lat': '40.351813', 'merch_long': '-79.958146', 'is_fraud': '0', 'event_time': '2025-07-26 20:56:28'}\n",
      "Produced message 6: {'': '9', 'trans_date_trans_time': '2019-01-01 00:06:01', 'cc_num': '2720830304681674', 'merchant': 'fraud_Schoen, Kuphal and Nitzsche', 'category': 'grocery_pos', 'amt': '198.39', 'first': 'Melissa', 'last': 'Aguilar', 'gender': 'F', 'street': '21326 Taylor Squares Suite 708', 'city': 'Clarksville', 'state': 'TN', 'zip': '37040', 'lat': '36.522', 'long': '-87.34899999999999', 'city_pop': '151785', 'job': 'Pathologist', 'dob': '1974-03-28', 'trans_num': '3b9014ea8fb80bd65de0b1463b00b00e', 'unix_time': '1325376361', 'merch_lat': '37.179198', 'merch_long': '-87.485381', 'is_fraud': '0', 'event_time': '2025-07-26 20:56:34'}\n",
      "Produced message 7: {'': '10', 'trans_date_trans_time': '2019-01-01 00:06:23', 'cc_num': '4642894980163', 'merchant': 'fraud_Rutherford-Mertz', 'category': 'grocery_pos', 'amt': '24.74', 'first': 'Eddie', 'last': 'Mendez', 'gender': 'M', 'street': '1831 Faith View Suite 653', 'city': 'Clarinda', 'state': 'IA', 'zip': '51632', 'lat': '40.7491', 'long': '-95.038', 'city_pop': '7297', 'job': 'IT trainer', 'dob': '1990-07-13', 'trans_num': 'd71c95ab6b7356dd74389d41df429c87', 'unix_time': '1325376383', 'merch_lat': '40.275890999999994', 'merch_long': '-96.011548', 'is_fraud': '0', 'event_time': '2025-07-26 20:56:39'}\n",
      "Produced message 8: {'': '11', 'trans_date_trans_time': '2019-01-01 00:06:53', 'cc_num': '377234009633447', 'merchant': 'fraud_Kerluke-Abshire', 'category': 'shopping_net', 'amt': '7.77', 'first': 'Theresa', 'last': 'Blackwell', 'gender': 'F', 'street': '43576 Kristina Islands', 'city': 'Shenandoah Junction', 'state': 'WV', 'zip': '25442', 'lat': '39.3716', 'long': '-77.8229', 'city_pop': '1925', 'job': 'Systems developer', 'dob': '1966-02-14', 'trans_num': '3c74776e558f1499a7824b556e474b1d', 'unix_time': '1325376413', 'merch_lat': '40.103866', 'merch_long': '-78.624459', 'is_fraud': '0', 'event_time': '2025-07-26 20:56:48'}\n",
      "Produced message 9: {'': '12', 'trans_date_trans_time': '2019-01-01 00:06:56', 'cc_num': '180042946491150', 'merchant': 'fraud_Lockman Ltd', 'category': 'grocery_pos', 'amt': '71.22', 'first': 'Charles', 'last': 'Robles', 'gender': 'M', 'street': '3337 Lisa Divide', 'city': 'Saint Petersburg', 'state': 'FL', 'zip': '33710', 'lat': '27.7898', 'long': '-82.7243', 'city_pop': '341043', 'job': 'Engineer, land', 'dob': '1989-02-28', 'trans_num': 'c1d9a7ddb1e34639fe82758de97f4abf', 'unix_time': '1325376416', 'merch_lat': '27.630593', 'merch_long': '-82.308891', 'is_fraud': '0', 'event_time': '2025-07-26 20:56:56'}\n",
      "Stopping producer ...\n",
      "Producer stopped\n"
     ]
    }
   ],
   "source": [
    "try:\n",
    "    for i, row in enumerate(stream_reader(csv_path), 1):\n",
    "        producer.send(topic_name, value=row)\n",
    "        producer.flush()\n",
    "        print(f\"Produced message {i}: {row}\")\n",
    "except KeyboardInterrupt:\n",
    "    print(\"Stopping producer ...\\nProducer stopped\")\n",
    "finally:\n",
    "    producer.flush()\n",
    "    producer.close()\n",
    "    #admin_client.close()"
   ]
  },
  {
   "cell_type": "code",
   "execution_count": null,
   "id": "9183cffc-ce28-47c1-815f-5daf937f1f0a",
   "metadata": {},
   "outputs": [],
   "source": []
  },
  {
   "cell_type": "code",
   "execution_count": null,
   "id": "8f8fc02f-9844-4167-add3-304a0837ccca",
   "metadata": {},
   "outputs": [],
   "source": []
  }
 ],
 "metadata": {
  "kernelspec": {
   "display_name": "Python 3 (ipykernel)",
   "language": "python",
   "name": "python3"
  },
  "language_info": {
   "codemirror_mode": {
    "name": "ipython",
    "version": 3
   },
   "file_extension": ".py",
   "mimetype": "text/x-python",
   "name": "python",
   "nbconvert_exporter": "python",
   "pygments_lexer": "ipython3",
   "version": "3.11.6"
  }
 },
 "nbformat": 4,
 "nbformat_minor": 5
}
