{
 "cells": [
  {
   "cell_type": "markdown",
   "id": "d589a073-9c99-44ad-be5b-eed74455b642",
   "metadata": {},
   "source": [
    "## imports"
   ]
  },
  {
   "cell_type": "code",
   "execution_count": 1,
   "id": "cc05834d-480c-4e11-b8ee-4f9127966d8a",
   "metadata": {},
   "outputs": [],
   "source": [
    "from pyspark.sql import SparkSession\n",
    "from pyspark.sql.functions import *\n",
    "from pyspark.sql.types import *"
   ]
  },
  {
   "cell_type": "code",
   "execution_count": 2,
   "id": "cb10dc90-8383-4681-808d-9f06c53d0819",
   "metadata": {},
   "outputs": [],
   "source": [
    "\n",
    "spark = SparkSession.builder \\\n",
    "    .appName(\"KafkaStreamReader\") \\\n",
    "    .config(\"spark.streaming.stopGracefullyOnShutdown\", True) \\\n",
    "    .config('spark.jars.packages', 'org.apache.spark:spark-sql-kafka-0-10_2.12:3.5.0') \\\n",
    "    .config(\"spark.sql.shuffle.partitions\", 4) \\\n",
    "    .getOrCreate()"
   ]
  },
  {
   "cell_type": "code",
   "execution_count": 3,
   "id": "b490b0c8-624c-4a3c-a242-061f56c4afd8",
   "metadata": {},
   "outputs": [],
   "source": [
    "kafka_df  = spark.readStream \\\n",
    "    .format(\"kafka\") \\\n",
    "    .option(\"kafka.bootstrap.servers\", \"kafka_v2:9092\") \\\n",
    "    .option(\"subscribe\", \"credit_card_trans\") \\\n",
    "    .option(\"startingOffsets\", \"earliest\") \\\n",
    "    .option(\"failOnDataLoss\", \"false\") \\\n",
    "    .load()"
   ]
  },
  {
   "cell_type": "code",
   "execution_count": 4,
   "id": "9aad5e42-b6ec-4bdf-b2e7-2b19e5328050",
   "metadata": {},
   "outputs": [
    {
     "name": "stdout",
     "output_type": "stream",
     "text": [
      "root\n",
      " |-- key: binary (nullable = true)\n",
      " |-- value: binary (nullable = true)\n",
      " |-- topic: string (nullable = true)\n",
      " |-- partition: integer (nullable = true)\n",
      " |-- offset: long (nullable = true)\n",
      " |-- timestamp: timestamp (nullable = true)\n",
      " |-- timestampType: integer (nullable = true)\n",
      "\n"
     ]
    }
   ],
   "source": [
    "kafka_df.printSchema()"
   ]
  },
  {
   "cell_type": "code",
   "execution_count": 5,
   "id": "eb251f21-01e1-4676-aa95-ce825f696990",
   "metadata": {},
   "outputs": [],
   "source": [
    "# Kafka message is in binary, so cast it to string\n",
    "value_df = kafka_df.selectExpr(\"CAST(value AS STRING) as json_str\")"
   ]
  },
  {
   "cell_type": "code",
   "execution_count": 23,
   "id": "e64b5d20-a5ff-4db1-aac7-3505021e92e1",
   "metadata": {},
   "outputs": [],
   "source": [
    "schema = StructType([\n",
    "    StructField(\"\", StringType(), True),\n",
    "    StructField(\"trans_date_trans_time\", StringType(), True),\n",
    "    StructField(\"cc_num\", StringType(), True),\n",
    "    StructField(\"merchant\", StringType(), True),\n",
    "    StructField(\"category\", StringType(), True),\n",
    "    StructField(\"amt\", StringType(), True),\n",
    "    StructField(\"first\", StringType(), True),\n",
    "    StructField(\"last\", StringType(), True),\n",
    "    StructField(\"gender\", StringType(), True),\n",
    "    StructField(\"street\", StringType(), True),\n",
    "    StructField(\"city\", StringType(), True),\n",
    "    StructField(\"state\", StringType(), True),\n",
    "    StructField(\"zip\", StringType(), True),\n",
    "    StructField(\"lat\", StringType(), True),\n",
    "    StructField(\"long\", StringType(), True),\n",
    "    StructField(\"city_pop\", StringType(), True),\n",
    "    StructField(\"job\", StringType(), True),\n",
    "    StructField(\"dob\", StringType(), True),\n",
    "    StructField(\"trans_num\", StringType(), True),\n",
    "    StructField(\"unix_time\", StringType(), True),\n",
    "    StructField(\"merch_long\", StringType(), True),\n",
    "    StructField(\"is_fraud\", StringType(), True),\n",
    "    StructField(\"event_time\",StringType(),True)\n",
    "])"
   ]
  },
  {
   "cell_type": "code",
   "execution_count": 24,
   "id": "7566e4e5-5260-4867-a13c-c72bb13586f4",
   "metadata": {},
   "outputs": [],
   "source": [
    "parsed_df = value_df.select(from_json(col(\"json_str\"), schema).alias(\"data\")).select(\"data.*\")"
   ]
  },
  {
   "cell_type": "code",
   "execution_count": 29,
   "id": "b19eaada-176a-43e8-8e0e-8bb1ad716b03",
   "metadata": {},
   "outputs": [],
   "source": [
    "parsed_df = parsed_df.withColumnRenamed(\"\", \"indx\")"
   ]
  },
  {
   "cell_type": "code",
   "execution_count": 32,
   "id": "e96c1f1a-c849-4550-aa4c-501b5445adfe",
   "metadata": {},
   "outputs": [
    {
     "data": {
      "text/plain": [
       "DataFrame[indx: string, trans_date_trans_time: timestamp, cc_num: string, merchant: string, category: string, amt: double, first: string, last: string, gender: string, street: string, city: string, state: string, zip: string, lat: double, long: double, city_pop: int, job: string, dob: string, trans_num: string, unix_time: bigint, merch_long: double, is_fraud: int, event_time: timestamp]"
      ]
     },
     "execution_count": 32,
     "metadata": {},
     "output_type": "execute_result"
    }
   ],
   "source": [
    "parsed_df.withColumn(\"is_fraud\",col(\"is_fraud\").cast(\"int\")) \\\n",
    "        .withColumn(\"merch_long\",col(\"merch_long\").cast(\"double\")) \\\n",
    "        .withColumn(\"unix_time\",col(\"unix_time\").cast(\"long\")) \\\n",
    "        .withColumn(\"merch_long\",col(\"merch_long\").cast(\"double\")) \\\n",
    "        .withColumn(\"city_pop\",col(\"city_pop\").cast(\"int\")) \\\n",
    "        .withColumn(\"long\",col(\"long\").cast(\"double\")) \\\n",
    "        .withColumn(\"lat\",col(\"lat\").cast(\"double\")) \\\n",
    "        .withColumn(\"amt\",col(\"amt\").cast(\"double\")) \\\n",
    "        .withColumn(\"trans_date_trans_time\", to_timestamp(\"trans_date_trans_time\", \"yyyy-MM-dd HH:mm:ss\")) \\\n",
    "        .withColumn(\"event_time\", to_timestamp(\"event_time\", \"yyyy-MM-dd HH:mm:ss\"))"
   ]
  },
  {
   "cell_type": "code",
   "execution_count": null,
   "id": "59d267a0-3345-438f-805f-1af9d8af2d80",
   "metadata": {},
   "outputs": [],
   "source": []
  },
  {
   "cell_type": "code",
   "execution_count": null,
   "id": "90b755f1-0cfb-4511-b14b-caa00fdceb4e",
   "metadata": {},
   "outputs": [],
   "source": []
  },
  {
   "cell_type": "code",
   "execution_count": null,
   "id": "5c5010ea-d829-401a-9bae-d4480df1bea5",
   "metadata": {},
   "outputs": [],
   "source": []
  },
  {
   "cell_type": "code",
   "execution_count": null,
   "id": "e851282d-14b2-4ff9-9d29-a8050ac7efb0",
   "metadata": {},
   "outputs": [],
   "source": []
  },
  {
   "cell_type": "code",
   "execution_count": null,
   "id": "fb51fb1b-c9cb-468f-9b3d-188a83e51b2a",
   "metadata": {},
   "outputs": [],
   "source": []
  },
  {
   "cell_type": "code",
   "execution_count": null,
   "id": "e999fb9e-3a8b-4e20-b7c4-085afcec205d",
   "metadata": {},
   "outputs": [],
   "source": []
  },
  {
   "cell_type": "code",
   "execution_count": null,
   "id": "9ad941cc-f7a5-4625-b84f-6d2424ace3c7",
   "metadata": {},
   "outputs": [],
   "source": []
  },
  {
   "cell_type": "code",
   "execution_count": 25,
   "id": "4e1fc7ad-a047-432a-9f48-270a4f77c3f5",
   "metadata": {},
   "outputs": [],
   "source": [
    "stream = parsed_df.writeStream \\\n",
    "                .format(\"console\") \\\n",
    "                .outputMode(\"append\") \n",
    "                # .option(\"checkpointLocation\", \"checkpoint_dir_kafka\")\n",
    "                # .trigger(processingTime=\"20 seconds\")"
   ]
  },
  {
   "cell_type": "code",
   "execution_count": 26,
   "id": "7bfb45c6-6598-4d23-af10-c86826008cde",
   "metadata": {},
   "outputs": [],
   "source": [
    "q = stream.start()"
   ]
  },
  {
   "cell_type": "code",
   "execution_count": 28,
   "id": "3b96fb0f-dad4-4282-8451-c381c287134a",
   "metadata": {},
   "outputs": [],
   "source": [
    "q.stop()"
   ]
  },
  {
   "cell_type": "code",
   "execution_count": null,
   "id": "665c8712-2640-43f4-a531-eb470347776f",
   "metadata": {},
   "outputs": [],
   "source": []
  },
  {
   "cell_type": "code",
   "execution_count": null,
   "id": "2a4ec8c2-4147-40b6-b7c0-c1b31ef5a187",
   "metadata": {},
   "outputs": [],
   "source": [
    "null - valid values - trem remove leading and lagging spaces - age - distance - city state of mershant using log and lat "
   ]
  },
  {
   "cell_type": "code",
   "execution_count": null,
   "id": "5c7f4471-80f1-4c30-a246-047df01ad821",
   "metadata": {},
   "outputs": [],
   "source": []
  },
  {
   "cell_type": "code",
   "execution_count": null,
   "id": "b45ff04b-2fc4-49d7-ba4f-fd962ef2f846",
   "metadata": {},
   "outputs": [],
   "source": [
    "from pyspark.sql.functions import sha2, col, hash\n",
    "df.withColumn(\"safe_hash\", sha2(col(\"user_id\"), 256))\n",
    "hashed_df = parsed_df.withColumn(\"user_hash\", hash(col(\"user_id\")))"
   ]
  },
  {
   "cell_type": "code",
   "execution_count": null,
   "id": "edf15053-46f7-4f0e-80bc-249af5a5d1bb",
   "metadata": {},
   "outputs": [],
   "source": []
  }
 ],
 "metadata": {
  "kernelspec": {
   "display_name": "Python 3 (ipykernel)",
   "language": "python",
   "name": "python3"
  },
  "language_info": {
   "codemirror_mode": {
    "name": "ipython",
    "version": 3
   },
   "file_extension": ".py",
   "mimetype": "text/x-python",
   "name": "python",
   "nbconvert_exporter": "python",
   "pygments_lexer": "ipython3",
   "version": "3.11.6"
  }
 },
 "nbformat": 4,
 "nbformat_minor": 5
}
